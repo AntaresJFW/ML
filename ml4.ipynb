{
 "cells": [
  {
   "cell_type": "code",
   "execution_count": 10,
   "metadata": {
    "collapsed": true
   },
   "outputs": [],
   "source": [
    "##importing the relevant classes and libaries to be used.\n",
    "from sklearn.datasets import load_iris\n",
    "from sklearn.cross_validation import train_test_split\n",
    "from sklearn.neighbors import KNeighborsClassifier\n",
    "from sklearn import metrics"
   ]
  },
  {
   "cell_type": "code",
   "execution_count": 11,
   "metadata": {
    "collapsed": true
   },
   "outputs": [],
   "source": [
    "##reading in the data \n",
    "iris = load_iris()\n",
    "\n",
    "##loading X (regressors) and y (dependent vars)\n",
    "X = iris.data\n",
    "y = iris.target"
   ]
  },
  {
   "cell_type": "code",
   "execution_count": 12,
   "metadata": {
    "collapsed": false
   },
   "outputs": [
    {
     "name": "stdout",
     "output_type": "stream",
     "text": [
      "0.973684210526\n"
     ]
    }
   ],
   "source": [
    "#use train/test split\n",
    "X_train, X_test, y_train, y_test = train_test_split(X,y,random_state=4)\n",
    "\n",
    "#Running the procedure for the classification accuracy of KNN with K = 5:\n",
    "knn = KNeighborsClassifier(n_neighbors=5)\n",
    "\n",
    "#training / determining the coefficients based on data in X_train and y_train:\n",
    "knn.fit(X_train,y_train)\n",
    "\n",
    "##Using the model we had fitted above to predict y_test data using X_test data:\n",
    "y_pred = knn.predict(X_test)\n",
    "\n",
    "##Comparing our predictions for y_test (=y_pred) and the actual values of y_test:\n",
    "print(metrics.accuracy_score(y_test, y_pred))"
   ]
  },
  {
   "cell_type": "code",
   "execution_count": 16,
   "metadata": {
    "collapsed": false
   },
   "outputs": [
    {
     "name": "stdout",
     "output_type": "stream",
     "text": [
      "[ 1.          0.93333333  1.          1.          0.86666667  0.93333333\n",
      "  0.93333333  1.          1.          1.        ]\n",
      "0.966666666667\n"
     ]
    }
   ],
   "source": [
    "#-------------------------------------------------------------------------------------\n",
    "## By varying the number in the random_state, we can observe that train/test split is a high variance test of accuracy.\n",
    "## Thus, another test we can use is the Kfold cross-validation test for choosing the optimal tuning parameters and choosing \n",
    "## between models and features.\n",
    "\n",
    "##Implementing Cross-validation recommendations:\n",
    "# K = 10 folds is recommended\n",
    "# Stratified sampling. If there are 2 classifications, one is n% of the entire set, each sample / k fold should have n% of that\n",
    "# classification.\n",
    "\n",
    "#importing cross_val_score to be used:\n",
    "from sklearn.cross_validation import cross_val_score\n",
    "\n",
    "# 10-fold cross-validation with K=5 neighbors for KNN (the n_neighbors parameter):\n",
    "knn = KNeighborsClassifier(n_neighbors=5)\n",
    "\n",
    "# The process takes the whole of X and y sets and splits it up themself, thus not needed to specify X_train/test or y_train/test\n",
    "scores = cross_val_score(knn, X, y, cv=10, scoring='accuracy')\n",
    "print(scores)\n",
    "\n",
    "# Taking the mean accuracy of our model to determine on average for all 10 folds;\n",
    "# how accurate was our model based on 5 neighbors on X/y set. This is the Average accuracy - estimating out-of-sample accuracy:\n",
    "print(scores.mean())"
   ]
  },
  {
   "cell_type": "code",
   "execution_count": 15,
   "metadata": {
    "collapsed": false,
    "scrolled": true
   },
   "outputs": [
    {
     "name": "stdout",
     "output_type": "stream",
     "text": [
      "0.966666666667\n"
     ]
    }
   ],
   "source": [
    "# ^On average, the accuracy of the model will be around 96% accurate in predicting out-of-sample estimates."
   ]
  },
  {
   "cell_type": "code",
   "execution_count": 17,
   "metadata": {
    "collapsed": false
   },
   "outputs": [
    {
     "name": "stdout",
     "output_type": "stream",
     "text": [
      "[0.95999999999999996, 0.95333333333333337, 0.96666666666666656, 0.96666666666666656, 0.96666666666666679, 0.96666666666666679, 0.96666666666666679, 0.96666666666666679, 0.97333333333333338, 0.96666666666666679, 0.96666666666666679, 0.97333333333333338, 0.98000000000000009, 0.97333333333333338, 0.97333333333333338, 0.97333333333333338, 0.97333333333333338, 0.98000000000000009, 0.97333333333333338, 0.98000000000000009, 0.96666666666666656, 0.96666666666666656, 0.97333333333333338, 0.95999999999999996, 0.96666666666666656, 0.95999999999999996, 0.96666666666666656, 0.95333333333333337, 0.95333333333333337, 0.95333333333333337]\n"
     ]
    }
   ],
   "source": [
    "# Now determining the optimal value for K for KNN\n",
    "# We want to test the different accuracies from from K=1 to K=31:\n",
    "k_range = range(1,31)\n",
    "\n",
    "# Creating an empty list to save our accuracy scores in:\n",
    "k_scores = []\n",
    "\n",
    "# for-loop for iterating through each value of k from 1 to 31 and saving the average accuracy:\n",
    "for k in k_range:\n",
    "    # for this instance, run KNeighborsClassifier on whatever value of k is right now (remember it is iterating from 1 - 31):\n",
    "    knn = KNeighborsClassifier(n_neighbors=k)\n",
    "    \n",
    "    # save all scores, the cross validation score of all 10-folds. \n",
    "    scores = cross_val_score(knn, X, y, cv=10, scoring='accuracy')\n",
    "    \n",
    "    # append to k_scores list the mean score of this instance of k:\n",
    "    k_scores.append(scores.mean())\n",
    "    \n",
    "print(k_scores)"
   ]
  },
  {
   "cell_type": "code",
   "execution_count": 20,
   "metadata": {
    "collapsed": false,
    "scrolled": true
   },
   "outputs": [
    {
     "data": {
      "text/plain": [
       "<matplotlib.text.Text at 0x1faafcd61d0>"
      ]
     },
     "execution_count": 20,
     "metadata": {},
     "output_type": "execute_result"
    },
    {
     "data": {
      "image/png": "[encoded data removed]",
      "text/plain": [
       "<matplotlib.figure.Figure at 0x1faafcaeb70>"
      ]
     },
     "metadata": {},
     "output_type": "display_data"
    }
   ],
   "source": [
    "# ^the above shows the average accuracy for k number of neighbors taken into account from 1 to 31. To better visualise it, we\n",
    "# plot the above information as a function of k\n",
    "\n",
    "# importing matplotlib.pypyplot\n",
    "import matplotlib.pyplot as plt\n",
    "%matplotlib inline\n",
    "\n",
    "plt.plot(k_range, k_scores)\n",
    "plt.xlabel('Value of K for KNN')\n",
    "plt.ylabel('Cross-validated accuracy')"
   ]
  },
  {
   "cell_type": "code",
   "execution_count": 23,
   "metadata": {
    "collapsed": true
   },
   "outputs": [
    {
     "name": "stdout",
     "output_type": "stream",
     "text": [
      "0.98\n"
     ]
    }
   ],
   "source": [
    "# Choose the value that chooses the simplest model (i.e, the most parsimonious model). For KNN, the higher the number,\n",
    "# the more parsimonious the model is. In this example, KNN = 20 is the most parsimonious model which balances the bias / var\n",
    "# equally.\n",
    "\n",
    "# Hence, we select KNN = 20 as our best model."
   ]
  },
  {
   "cell_type": "code",
   "execution_count": 24,
   "metadata": {
    "collapsed": false
   },
   "outputs": [
    {
     "name": "stdout",
     "output_type": "stream",
     "text": [
      "0.98\n"
     ]
    }
   ],
   "source": [
    "#-------------------------------------------------------------------------------------------\n",
    "# Model selection. Chosing between KNN model and Logistic regression model.\n",
    "\n",
    "# 10-fold cross-validation with the best KNN model\n",
    "knn = KNeighborsClassifier(n_neighbors=20)\n",
    "print(cross_val_score(knn,X,y,cv=10,scoring='accuracy').mean())"
   ]
  },
  {
   "cell_type": "code",
   "execution_count": 26,
   "metadata": {
    "collapsed": false
   },
   "outputs": [
    {
     "name": "stdout",
     "output_type": "stream",
     "text": [
      "0.953333333333\n"
     ]
    }
   ],
   "source": [
    "# 10-fold cross-validation with logistic regression\n",
    "# import logistic regression function\n",
    "from sklearn.linear_model import LogisticRegression\n",
    "\n",
    "logreg = LogisticRegression()\n",
    "print(cross_val_score(logreg, X,y,cv=10,scoring='accuracy').mean())"
   ]
  },
  {
   "cell_type": "code",
   "execution_count": 27,
   "metadata": {
    "collapsed": true
   },
   "outputs": [],
   "source": [
    "# ^comparing an accuracy of 0.98 vs 0.95 (i.e., 98% vs 95%), we can conclude that our KNN model is a better choice / model to chose to\n",
    "# estamate out-of-sample data."
   ]
  },
  {
   "cell_type": "code",
   "execution_count": 28,
   "metadata": {
    "collapsed": true
   },
   "outputs": [],
   "source": [
    "#-------------------------------------------------------------------------------------------------\n",
    "# Cross-validation for Feature selection\n",
    "import pandas as pd\n",
    "import numpy as np\n",
    "from sklearn.linear_model import LinearRegression"
   ]
  },
  {
   "cell_type": "code",
   "execution_count": 31,
   "metadata": {
    "collapsed": false
   },
   "outputs": [
    {
     "name": "stdout",
     "output_type": "stream",
     "text": [
      "      TV  Radio  Newspaper  Sales\n",
      "1  230.1   37.8       69.2   22.1\n",
      "2   44.5   39.3       45.1   10.4\n",
      "3   17.2   45.9       69.3    9.3\n",
      "4  151.5   41.3       58.5   18.5\n",
      "5  180.8   10.8       58.4   12.9\n"
     ]
    }
   ],
   "source": [
    "#Reading the data into pandas. Use advertising dataset as before in the other workbook.\n",
    "data = pd.read_csv('http://www-bcf.usc.edu/~gareth/ISL/Advertising.csv', index_col=0)\n",
    "\n",
    "#checking that the data has been imported in w/ the initial column, col 0 being turned into the index for the dataset:\n",
    "print(data.head())"
   ]
  },
  {
   "cell_type": "code",
   "execution_count": 36,
   "metadata": {
    "collapsed": true
   },
   "outputs": [],
   "source": [
    "# Creating a python list of three feature names\n",
    "feature_cols = ['TV', 'Radio', 'Newspaper']\n",
    "\n",
    "# Using the above list to select the subset of a dataframe and mapping it to X (regressors)\n",
    "X = data[feature_cols]\n",
    "\n",
    "# Now use pandas to extract the Sales column and map it to y as our response / dependent vars:\n",
    "y = data['Sales']"
   ]
  },
  {
   "cell_type": "code",
   "execution_count": 37,
   "metadata": {
    "collapsed": false
   },
   "outputs": [
    {
     "name": "stdout",
     "output_type": "stream",
     "text": [
      "      TV  Radio  Newspaper\n",
      "1  230.1   37.8       69.2\n",
      "2   44.5   39.3       45.1\n",
      "3   17.2   45.9       69.3\n",
      "4  151.5   41.3       58.5\n",
      "5  180.8   10.8       58.4\n",
      "<class 'pandas.core.frame.DataFrame'>\n",
      "1    22.1\n",
      "2    10.4\n",
      "3     9.3\n",
      "4    18.5\n",
      "5    12.9\n",
      "Name: Sales, dtype: float64\n",
      "<class 'pandas.core.series.Series'>\n"
     ]
    }
   ],
   "source": [
    "# Checking that both X and y has been mapped correctly:\n",
    "print(X.head())\n",
    "print(type(X))\n",
    "print(y.head())\n",
    "print(type(y))"
   ]
  },
  {
   "cell_type": "code",
   "execution_count": 38,
   "metadata": {
    "collapsed": false
   },
   "outputs": [
    {
     "name": "stdout",
     "output_type": "stream",
     "text": [
      "[-3.56038438 -3.29767522 -2.08943356 -2.82474283 -1.3027754  -1.74163618\n",
      " -8.17338214 -2.11409746 -3.04273109 -2.45281793]\n"
     ]
    }
   ],
   "source": [
    "# ^and thus we can see that X now only contains the regressors TV / Radio / Newspaper. y only contains Sales as its responses :)\n",
    "\n",
    "# Note: This was a good method to check that you have the right vars extracted. Actually extracted the 'Sales' column as X\n",
    "# before I had checked and noticed that it was included. Modified / corrected it before proceeding.\n",
    "\n",
    "# performing 10-fold cross-validation with all three features:\n",
    "lm = LinearRegression()\n",
    "scores = cross_val_score(lm, X, y, cv=10, scoring='mean_squared_error')\n",
    "print(scores)"
   ]
  },
  {
   "cell_type": "code",
   "execution_count": 39,
   "metadata": {
    "collapsed": false
   },
   "outputs": [
    {
     "name": "stdout",
     "output_type": "stream",
     "text": [
      "[ 3.56038438  3.29767522  2.08943356  2.82474283  1.3027754   1.74163618\n",
      "  8.17338214  2.11409746  3.04273109  2.45281793]\n"
     ]
    }
   ],
   "source": [
    "# Recalling that mean_squared_error is a sqrt function of the sum of squared errors, we know that the values above should not\n",
    "# be negative. (intuitively, squaring errors never amount to -ve's.). However cross_val_score had calculated and outputted the above\n",
    "# to reflect 'the higher the score; the better the model' for cost functions. This is to be consistent with the evaluation of\n",
    "# the accuracy scores of models. \n",
    "\n",
    "#to fix the sign of MSE scores:\n",
    "mse_scores = -scores\n",
    "print(mse_scores)"
   ]
  },
  {
   "cell_type": "code",
   "execution_count": 40,
   "metadata": {
    "collapsed": false
   },
   "outputs": [
    {
     "name": "stdout",
     "output_type": "stream",
     "text": [
      "[ 1.88689808  1.81595022  1.44548731  1.68069713  1.14139187  1.31971064\n",
      "  2.85891276  1.45399362  1.7443426   1.56614748]\n"
     ]
    }
   ],
   "source": [
    "# convert from MSE to RMSE (Root Mean Squared Error). Call numpy (np) to perform function of sqrt\n",
    "rmse_scores = np.sqrt(mse_scores)\n",
    "print(rmse_scores)"
   ]
  },
  {
   "cell_type": "code",
   "execution_count": 41,
   "metadata": {
    "collapsed": false
   },
   "outputs": [
    {
     "name": "stdout",
     "output_type": "stream",
     "text": [
      "1.69135317081\n"
     ]
    }
   ],
   "source": [
    "# calculating the average RMSE\n",
    "print(rmse_scores.mean())"
   ]
  },
  {
   "cell_type": "code",
   "execution_count": 42,
   "metadata": {
    "collapsed": true
   },
   "outputs": [],
   "source": [
    "# As we are trying to compare the model where we include 'Newspaper' as one of the regressors (i.e. +betaNewspaper)\n",
    "# vs without a model without that regressor. We can perform another test of the model without the newspaper regressor\n",
    "# and check the root mean squared error to see if the model is better off without this variable.\n",
    "\n",
    "# 10-fold cross-validation with two features (i.e. TV and Radios ONLY):\n",
    "# Assigning X to now be only TV and Radio:\n",
    "feature_cols = ['TV', 'Radio']\n",
    "\n",
    "X = data[feature_cols]\n",
    "\n",
    "# Again, we set y to be the Sales / dependent variable\n",
    "y = data['Sales']"
   ]
  },
  {
   "cell_type": "code",
   "execution_count": 43,
   "metadata": {
    "collapsed": false
   },
   "outputs": [
    {
     "name": "stdout",
     "output_type": "stream",
     "text": [
      "      TV  Radio\n",
      "1  230.1   37.8\n",
      "2   44.5   39.3\n",
      "3   17.2   45.9\n",
      "4  151.5   41.3\n",
      "5  180.8   10.8\n",
      "<class 'pandas.core.frame.DataFrame'>\n",
      "1    22.1\n",
      "2    10.4\n",
      "3     9.3\n",
      "4    18.5\n",
      "5    12.9\n",
      "Name: Sales, dtype: float64\n",
      "<class 'pandas.core.series.Series'>\n"
     ]
    }
   ],
   "source": [
    "print(X.head())\n",
    "print(type(X))\n",
    "print(y.head())\n",
    "print(type(y))"
   ]
  },
  {
   "cell_type": "code",
   "execution_count": 48,
   "metadata": {
    "collapsed": false
   },
   "outputs": [
    {
     "name": "stdout",
     "output_type": "stream",
     "text": [
      "1.67967484191\n"
     ]
    }
   ],
   "source": [
    "# ^confirmed that now we are only taking the variables TV and Radio as our regressors as a function of Sales.\n",
    "\n",
    "# Now to compute the Root Mean Squared Error:\n",
    "print(np.sqrt(-cross_val_score(lm,X,y,cv=10,scoring='mean_squared_error')).mean())\n",
    "\n",
    "#ie, the above is actually saying 'print the squareroot of the average of all the mean squared error's of the model that compares\n",
    "# using the difference between the prediction using linear regression and the actual values of y' (the root mean squared error formula)\n",
    "# It is important to note that the formula used itself first does the following. It looks at the difference between the predicted\n",
    "# value versus the actual y value; and Squares the differences. Afterwards, the squared differences are Summed up THEN averaged.\n",
    "# The total is THEN square rooted. The .mean() then takes the average of all of the RMSE's. This is not the mean performed in the\n",
    "# formula itself. This has already been done in the cross_val_score. "
   ]
  },
  {
   "cell_type": "code",
   "execution_count": 49,
   "metadata": {
    "collapsed": true
   },
   "outputs": [],
   "source": [
    "# as we can see, 1.69 vs 1.73, as 1.69 > 1.67, we can conclude that actually, our model is better off without the 'newspaper'\n",
    "# component in our model; as our cost function produces less error without the variable than with the variable. (i.e. the lower\n",
    "# the better)"
   ]
  },
  {
   "cell_type": "code",
   "execution_count": null,
   "metadata": {
    "collapsed": true
   },
   "outputs": [],
   "source": []
  }
 ],
 "metadata": {
  "anaconda-cloud": {},
  "kernelspec": {
   "display_name": "Python [default]",
   "language": "python",
   "name": "python3"
  },
  "language_info": {
   "codemirror_mode": {
    "name": "ipython",
    "version": 3
   },
   "file_extension": ".py",
   "mimetype": "text/x-python",
   "name": "python",
   "nbconvert_exporter": "python",
   "pygments_lexer": "ipython3",
   "version": "3.5.2"
  }
 },
 "nbformat": 4,
 "nbformat_minor": 1
}
